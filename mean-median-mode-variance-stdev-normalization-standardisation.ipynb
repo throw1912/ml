{
 "cells": [
  {
   "cell_type": "code",
   "execution_count": 6,
   "id": "ef3e804e",
   "metadata": {},
   "outputs": [],
   "source": [
    "import numpy as np\n",
    "from statistics import mean, median, mode, variance, stdev"
   ]
  },
  {
   "cell_type": "code",
   "execution_count": 2,
   "id": "8f6e6880",
   "metadata": {},
   "outputs": [
    {
     "data": {
      "text/plain": [
       "array([115.3, 195.5, 120.5, 110.2,  90.4, 105.6, 110.9, 116.3, 122.3,\n",
       "       125.4])"
      ]
     },
     "execution_count": 2,
     "metadata": {},
     "output_type": "execute_result"
    }
   ],
   "source": [
    "array = np.array([115.3, 195.5, 120.5, 110.2, 90.4, 105.6, 110.9, 116.3, 122.3, 125.4])\n",
    "array"
   ]
  },
  {
   "cell_type": "code",
   "execution_count": 7,
   "id": "cd6b75aa",
   "metadata": {},
   "outputs": [
    {
     "data": {
      "text/plain": [
       "121.24000000000001"
      ]
     },
     "execution_count": 7,
     "metadata": {},
     "output_type": "execute_result"
    }
   ],
   "source": [
    "def find_mean(x):\n",
    "    total,count = 0, 0\n",
    "    for num in x:\n",
    "        total += num\n",
    "        count += 1\n",
    "    mean = total / count\n",
    "    return mean\n",
    "find_mean(array)"
   ]
  },
  {
   "cell_type": "code",
   "execution_count": 8,
   "id": "4557c52a",
   "metadata": {},
   "outputs": [
    {
     "data": {
      "text/plain": [
       "121.24"
      ]
     },
     "execution_count": 8,
     "metadata": {},
     "output_type": "execute_result"
    }
   ],
   "source": [
    "mean(array)"
   ]
  },
  {
   "cell_type": "code",
   "execution_count": 35,
   "id": "f188fbeb",
   "metadata": {},
   "outputs": [],
   "source": [
    "def find_median(arr):\n",
    "    # to sort the array\n",
    "    for i in range(len(arr)):\n",
    "        for j in range(i+1,len(arr)):\n",
    "            if arr[j] < arr[i]:\n",
    "                arr[i], arr[j] = arr[j], arr[i] \n",
    "    \n",
    "    # to find median / middle term\n",
    "    if len(arr) % 2 == 0:\n",
    "        mid = (arr[len(arr) // 2] + arr[(len(arr) // 2) - 1]) / 2\n",
    "    else:\n",
    "        mid = arr[len(arr)//2]\n",
    "    return mid"
   ]
  },
  {
   "cell_type": "code",
   "execution_count": 37,
   "id": "ef48458f",
   "metadata": {},
   "outputs": [
    {
     "data": {
      "text/plain": [
       "(115.8, 115.8)"
      ]
     },
     "execution_count": 37,
     "metadata": {},
     "output_type": "execute_result"
    }
   ],
   "source": [
    "find_median(array), median(array)"
   ]
  },
  {
   "cell_type": "code",
   "execution_count": 52,
   "id": "c68d0eb5",
   "metadata": {},
   "outputs": [],
   "source": [
    "def find_mode(arr):\n",
    "    arr = list(arr)\n",
    "    num_only = set(arr)\n",
    "    num_counts = {}\n",
    "    for num in num_only:\n",
    "        num_counts[num] = arr.count(num)\n",
    "\n",
    "    max_count = 0\n",
    "    for count in num_counts.values():\n",
    "        if count > max_count:\n",
    "            max_count = count\n",
    "    \n",
    "    for k,v in num_counts.items():\n",
    "        if v == max_count:\n",
    "            return k"
   ]
  },
  {
   "cell_type": "code",
   "execution_count": 53,
   "id": "7805cfbb",
   "metadata": {},
   "outputs": [
    {
     "data": {
      "text/plain": [
       "(195.5, 90.4)"
      ]
     },
     "execution_count": 53,
     "metadata": {},
     "output_type": "execute_result"
    }
   ],
   "source": [
    "find_mode(array), mode(array)"
   ]
  },
  {
   "cell_type": "code",
   "execution_count": 55,
   "id": "fb483ba1",
   "metadata": {},
   "outputs": [],
   "source": [
    "arr = [1,2,3,4,5,6,7,8,9]"
   ]
  },
  {
   "cell_type": "code",
   "execution_count": 66,
   "id": "8e61e3a4",
   "metadata": {},
   "outputs": [],
   "source": [
    "def find_var_std(arr):\n",
    "    summation = 0\n",
    "    mean_arr = mean(arr)\n",
    "    n = len(arr)\n",
    "    for num in arr:\n",
    "        summation += (num - mean_arr)**2\n",
    "    my_variance = summation / (n-1)\n",
    "    std = my_variance**0.5\n",
    "    return my_variance, std"
   ]
  },
  {
   "cell_type": "code",
   "execution_count": 70,
   "id": "98ee2916",
   "metadata": {},
   "outputs": [
    {
     "data": {
      "text/plain": [
       "(779.7471111111112, 27.923952283140565)"
      ]
     },
     "execution_count": 70,
     "metadata": {},
     "output_type": "execute_result"
    }
   ],
   "source": [
    "find_var_std(array)"
   ]
  },
  {
   "cell_type": "code",
   "execution_count": 69,
   "id": "df62e734",
   "metadata": {},
   "outputs": [
    {
     "data": {
      "text/plain": [
       "(779.747111111111, 27.92395228314056)"
      ]
     },
     "execution_count": 69,
     "metadata": {},
     "output_type": "execute_result"
    }
   ],
   "source": [
    "variance(array), stdev(array)"
   ]
  },
  {
   "cell_type": "code",
   "execution_count": 74,
   "id": "32f77f17",
   "metadata": {},
   "outputs": [
    {
     "data": {
      "text/plain": [
       "array([ 90.4, 105.6, 110.2, 110.9, 115.3, 116.3, 120.5, 122.3, 125.4,\n",
       "       195.5])"
      ]
     },
     "execution_count": 74,
     "metadata": {},
     "output_type": "execute_result"
    }
   ],
   "source": [
    "array"
   ]
  },
  {
   "cell_type": "code",
   "execution_count": 73,
   "id": "541ecd29",
   "metadata": {},
   "outputs": [
    {
     "data": {
      "text/plain": [
       "[0.0,\n",
       " 0.14462416745956222,\n",
       " 0.18839200761179828,\n",
       " 0.1950523311132255,\n",
       " 0.23691722169362506,\n",
       " 0.24643196955280677,\n",
       " 0.2863939105613701,\n",
       " 0.3035204567078972,\n",
       " 0.3330161750713606,\n",
       " 1.0]"
      ]
     },
     "execution_count": 73,
     "metadata": {},
     "output_type": "execute_result"
    }
   ],
   "source": [
    "min_arr = min(array)\n",
    "max_arr = max(array)\n",
    "normalized_arr = []\n",
    "for num in array:\n",
    "    normalized_arr.append( (num - min_arr) / (max_arr - min_arr) )\n",
    "normalized_arr\n",
    "    \n",
    "    "
   ]
  },
  {
   "cell_type": "code",
   "execution_count": 76,
   "id": "b6bc72e9",
   "metadata": {},
   "outputs": [
    {
     "data": {
      "text/plain": [
       "[-1.1044281872168944,\n",
       " -0.5600926345029907,\n",
       " -0.3953595067079932,\n",
       " -0.370291422043537,\n",
       " -0.2127206041526703,\n",
       " -0.17690905463201873,\n",
       " -0.026500546645281987,\n",
       " 0.037960242491890756,\n",
       " 0.14897604600591097,\n",
       " 2.6593656674035864]"
      ]
     },
     "execution_count": 76,
     "metadata": {},
     "output_type": "execute_result"
    }
   ],
   "source": [
    "std_arr = stdev(array)\n",
    "mean_arr = mean(array)\n",
    "stdised_arr = []\n",
    "for num in array:\n",
    "    stdised_arr.append( ( num - mean_arr ) / (std_arr) )\n",
    "stdised_arr"
   ]
  },
  {
   "cell_type": "code",
   "execution_count": 77,
   "id": "a87890b3",
   "metadata": {},
   "outputs": [
    {
     "data": {
      "text/plain": [
       "(1.7694179454963432e-16, 1.0)"
      ]
     },
     "execution_count": 77,
     "metadata": {},
     "output_type": "execute_result"
    }
   ],
   "source": [
    "mean(stdised_arr), stdev(stdised_arr)"
   ]
  },
  {
   "cell_type": "code",
   "execution_count": null,
   "id": "852aefe5",
   "metadata": {},
   "outputs": [],
   "source": []
  }
 ],
 "metadata": {
  "kernelspec": {
   "display_name": "Python 3",
   "language": "python",
   "name": "python3"
  },
  "language_info": {
   "codemirror_mode": {
    "name": "ipython",
    "version": 3
   },
   "file_extension": ".py",
   "mimetype": "text/x-python",
   "name": "python",
   "nbconvert_exporter": "python",
   "pygments_lexer": "ipython3",
   "version": "3.8.8"
  }
 },
 "nbformat": 4,
 "nbformat_minor": 5
}
